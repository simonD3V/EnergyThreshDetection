{
 "cells": [
  {
   "cell_type": "code",
   "execution_count": null,
   "id": "6698342a-e9ce-409a-9aa9-6e5728ace647",
   "metadata": {},
   "outputs": [],
   "source": [
    "import scipy\n",
    "import numpy as np\n",
    "from math import pi\n",
    "import librosa\n",
    "from matplotlib import pylab as pl\n",
    "from bandwidthdetection import BandwidthDetector"
   ]
  },
  {
   "cell_type": "markdown",
   "id": "5b5c413b-51cf-4b81-9ffd-c435aca887fd",
   "metadata": {},
   "source": [
    "# Bandwidth Detection"
   ]
  },
  {
   "cell_type": "markdown",
   "id": "2cea71d7-bfdf-402d-9cf6-f908d38ec364",
   "metadata": {},
   "source": [
    "# Open a wav file with librosa"
   ]
  },
  {
   "cell_type": "code",
   "execution_count": null,
   "id": "4c1d6741-2468-4f30-97f3-c26d70e6199c",
   "metadata": {},
   "outputs": [],
   "source": [
    "pfile_full = \"./audiofiles/poeme_full.wav\"\n",
    "pfile_damaged = \"./audiofiles/poeme_damaged.wav\" \n",
    "\n",
    "y_full, sr = librosa.load(pfile_full, sr=16000)\n",
    "y_damaged, _ = librosa.load(pfile_damaged, sr=16000)"
   ]
  },
  {
   "cell_type": "code",
   "execution_count": null,
   "id": "925e5ebd-0662-4701-8dfb-274596097dd9",
   "metadata": {},
   "outputs": [],
   "source": [
    "# extract 10s\n",
    "y_full = y_full[sr*2:sr*12]\n",
    "y_damaged = y_damaged[sr*2:sr*12]"
   ]
  },
  {
   "cell_type": "code",
   "execution_count": null,
   "id": "06e46c00-bf3f-44e5-ba7c-a376d5e1ea25",
   "metadata": {
    "jupyter": {
     "source_hidden": true
    }
   },
   "outputs": [],
   "source": [
    "colorset = [\"#8bb189\", \"#b1898b\"]\n",
    "labels = [\"Full signal\", \"Damaged signal\"]\n",
    "\n",
    "fig, ax = pl.subplots(2, figsize=(20, 4))\n",
    "ax[0].plot(y_full, color=colorset[0], label=labels[0])\n",
    "ax[1].plot(y_damaged, color=colorset[1], label=labels[1])\n",
    "fig.suptitle(f\"Test signals (sampling rate = {sr} Hz\")\n",
    "fig.legend()\n",
    "pl.show()"
   ]
  },
  {
   "cell_type": "markdown",
   "id": "bf47d39b-f81e-4cdc-a6b9-540367ad1267",
   "metadata": {},
   "source": [
    "# Load the BandwidthDetector"
   ]
  },
  {
   "cell_type": "code",
   "execution_count": null,
   "id": "878c7010-1e4a-486f-af08-478a1dee429a",
   "metadata": {},
   "outputs": [],
   "source": [
    "bwd = BandwidthDetector(\n",
    "    sr=sr, \n",
    "    thresholds=[0.95, 0.97, 0.99]\n",
    ")"
   ]
  },
  {
   "cell_type": "markdown",
   "id": "f0d1eb1a-c54a-47c0-b5a8-7a7ea8f6cfeb",
   "metadata": {},
   "source": [
    "# Run and plot"
   ]
  },
  {
   "cell_type": "code",
   "execution_count": null,
   "id": "f7a2320e-611c-4d03-bb04-1ba47e344378",
   "metadata": {},
   "outputs": [],
   "source": [
    "outputs = [bwd(path, uem=[(2, 12)]) for path in [pfile_full, pfile_damaged]]\n",
    "outputs"
   ]
  },
  {
   "cell_type": "code",
   "execution_count": null,
   "id": "157cee24-6226-4867-bab4-e7c5c5fc8661",
   "metadata": {
    "jupyter": {
     "source_hidden": true
    }
   },
   "outputs": [],
   "source": [
    "n = len(y_full)\n",
    "duration = n / etd.sr\n",
    "\n",
    "fft_full = scipy.fft.fft(y_full)\n",
    "fft_damaged = scipy.fft.fft(y_damaged)\n",
    "\n",
    "spectrum_full = abs(fft_full)[:(n // 2)]\n",
    "spectrum_damaged = abs(fft_damaged)[:(n // 2)]"
   ]
  },
  {
   "cell_type": "code",
   "execution_count": null,
   "id": "fc8f5a5a-822f-4f7f-9058-a1517e0a4a1f",
   "metadata": {
    "jupyter": {
     "source_hidden": true
    }
   },
   "outputs": [],
   "source": [
    "fig, ax = pl.subplots(2, figsize=(20, 8))\n",
    "\n",
    "for (axes, spectrum, c, l, o) in zip(ax, [spectrum_full, spectrum_damaged], colorset, labels, outputs):\n",
    "    \n",
    "    axes.plot(np.log(spectrum), color=c, label=l)    \n",
    "    \n",
    "    for (t, f) in o[\"frequencies\"]:\n",
    "        axes.axvline(x=f * duration, linestyle=\"--\", color=\"#1d1e3f\")\n",
    "        axes.text(f * duration + 150, 2, f\"{f}\", color=\"#898bb1\")\n",
    "        axes.text(f * duration + 150, min(np.log(spectrum)), f\"{t}\", color=\"#1d1e3f\")\n",
    "\n",
    "fig.suptitle(\"Spectrum and maximum energy thresholds\")"
   ]
  },
  {
   "cell_type": "code",
   "execution_count": null,
   "id": "0e468a4b-d0a4-48f1-bd55-1ac95ff77c6c",
   "metadata": {},
   "outputs": [],
   "source": []
  }
 ],
 "metadata": {
  "kernelspec": {
   "display_name": "Python 3 (ipykernel)",
   "language": "python",
   "name": "python3"
  },
  "language_info": {
   "codemirror_mode": {
    "name": "ipython",
    "version": 3
   },
   "file_extension": ".py",
   "mimetype": "text/x-python",
   "name": "python",
   "nbconvert_exporter": "python",
   "pygments_lexer": "ipython3",
   "version": "3.10.12"
  }
 },
 "nbformat": 4,
 "nbformat_minor": 5
}
